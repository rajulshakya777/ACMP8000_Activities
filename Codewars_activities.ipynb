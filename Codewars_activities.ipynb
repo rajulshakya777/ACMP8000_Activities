{
  "cells": [
    {
      "cell_type": "markdown",
      "metadata": {
        "id": "s--UOvo--OlL"
      },
      "source": [
        "# Activity 1\n",
        "\n",
        "### Example 1 : Inheritence"
      ]
    },
    {
      "cell_type": "code",
      "execution_count": 1,
      "metadata": {},
      "outputs": [
        {
          "name": "stdout",
          "output_type": "stream",
          "text": [
            "I like to eat bones\n"
          ]
        }
      ],
      "source": [
        "class Animal:\n",
        "\n",
        "    # attributes and method of the parent class\n",
        "    name = \"\"\n",
        "    \n",
        "    def eat(self):\n",
        "        print(\"I can eat\")\n",
        "\n",
        "# inherit from Animal\n",
        "class Dog(Animal):\n",
        "\n",
        "    # override eat() method\n",
        "    def eat(self):\n",
        "        print(\"I like to eat bones\")\n",
        "\n",
        "# create an object of the subclass\n",
        "labrador = Dog()\n",
        "\n",
        "# call the eat() method on the labrador object\n",
        "labrador.eat()"
      ]
    },
    {
      "cell_type": "markdown",
      "metadata": {},
      "source": [
        "### Example 2 : Basic Threading"
      ]
    },
    {
      "cell_type": "code",
      "execution_count": 4,
      "metadata": {},
      "outputs": [
        {
          "name": "stdout",
          "output_type": "stream",
          "text": [
            "Countdown: 5\n",
            "Hello from another thread!\n",
            "Hello from another thread!\n",
            "Countdown: 4\n",
            "Hello from another thread!\n",
            "Hello from another thread!\n",
            "Countdown: 3\n",
            "Hello from another thread!\n",
            "Countdown: 2\n",
            "Countdown: 1\n",
            "Both threads are done!\n"
          ]
        }
      ],
      "source": [
        "import threading  # Import threading module for working with threads\n",
        "import time  # Import time module for adding sleep delays\n",
        "\n",
        "# Define a function to perform a countdown\n",
        "def countdown():\n",
        "    for i in range(5, 0, -1):  # Start at 5 and count down to 1\n",
        "        print(f\"Countdown: {i}\")  # Print the current countdown value\n",
        "        time.sleep(1)  # Pause execution for 1 second before the next number\n",
        "\n",
        "# Define a function to print a message multiple times\n",
        "def print_message():\n",
        "    for _ in range(5):  # Loop 5 times\n",
        "        print(\"Hello from another thread!\")  # Print the message\n",
        "        time.sleep(0.5)  # Pause execution for 0.5 seconds before the next print\n",
        "\n",
        "# Create threads for the two functions\n",
        "thread1 = threading.Thread(target=countdown)  # Create a thread to run the countdown function\n",
        "thread2 = threading.Thread(target=print_message)  # Create a thread to run the print_message function\n",
        "\n",
        "# Start the threads\n",
        "thread1.start()  # Begin execution of thread1 (the countdown)\n",
        "thread2.start()  # Begin execution of thread2 (printing messages)\n",
        "\n",
        "# Wait for both threads to finish before continuing\n",
        "thread1.join()  # Wait for thread1 (countdown) to finish\n",
        "thread2.join()  # Wait for thread2 (message printer) to finish\n",
        "\n",
        "print(\"Both threads are done!\")  # Print a message when both threads are complete\n"
      ]
    },
    {
      "cell_type": "markdown",
      "metadata": {},
      "source": [
        "### Example 3: System Administration"
      ]
    },
    {
      "cell_type": "code",
      "execution_count": 5,
      "metadata": {},
      "outputs": [
        {
          "name": "stdout",
          "output_type": "stream",
          "text": [
            "Command output:\n",
            "total 96\n",
            "-rw-r--r--@ 1 rajulshakywar  staff  21052 Sep 16 12:46 Codebook_activities.ipynb\n",
            "-rw-r--r--  1 rajulshakywar  staff   4373 Sep 16 13:05 Codewars_activities.ipynb\n",
            "-rw-r--r--  1 rajulshakywar  staff     22 Sep  4 14:16 README.md\n",
            "-rw-r--r--  1 rajulshakywar  staff   8192 Sep 16 12:34 example.db\n",
            "-rw-r--r--  1 rajulshakywar  staff     10 Sep 16 12:34 test.txt\n",
            "\n"
          ]
        }
      ],
      "source": [
        "import subprocess  # Import the subprocess module to execute shell commands\n",
        "\n",
        "def run_command(command):\n",
        "    try:\n",
        "        # Execute the command and capture its output\n",
        "        result = subprocess.run(command, shell=True, capture_output=True, text=True)\n",
        "        # Print the standard output from the command\n",
        "        print(\"Command output:\")\n",
        "        print(result.stdout)\n",
        "        # Print any error messages from the command\n",
        "        if result.stderr:\n",
        "            print(\"Command errors:\")\n",
        "            print(result.stderr)\n",
        "    except Exception as e:\n",
        "        print(f\"An error occurred: {e}\")  # Handle any exceptions that occur\n",
        "\n",
        "# Specify the shell command to execute\n",
        "command = 'ls -l'  # This command lists files in long format\n",
        "\n",
        "# Call the function to execute the command\n",
        "run_command(command)\n"
      ]
    },
    {
      "cell_type": "markdown",
      "metadata": {},
      "source": [
        "### Example 4 : Databases and Persistence"
      ]
    },
    {
      "cell_type": "code",
      "execution_count": 8,
      "metadata": {},
      "outputs": [
        {
          "name": "stdout",
          "output_type": "stream",
          "text": [
            "Records in the 'users' table:\n",
            "(1, 'Alice', 30)\n"
          ]
        }
      ],
      "source": [
        "import sqlite3\n",
        "\n",
        "# Connect to the SQLite database 'example.db'\n",
        "connection = sqlite3.connect('example.db')\n",
        "\n",
        "# Create a cursor object to execute SQL commands\n",
        "cursor = connection.cursor()\n",
        "\n",
        "# SQL command to create a new table 'users'\n",
        "cursor.execute('''\n",
        "    CREATE TABLE IF NOT EXISTS users (\n",
        "        id INTEGER PRIMARY KEY,\n",
        "        name TEXT NOT NULL,\n",
        "        age INTEGER\n",
        "    )\n",
        "''')\n",
        "\n",
        "# SQL command to insert a new record into the 'users' table\n",
        "cursor.execute('''\n",
        "    INSERT INTO users (name, age) VALUES (?, ?)\n",
        "''', ('Alice', 30))  # Insert a record with name 'Alice' and age 30\n",
        "\n",
        "# Save the changes to the database\n",
        "connection.commit()\n",
        "\n",
        "# Query to retrieve all records from the 'users' table\n",
        "cursor.execute('SELECT * FROM users')\n",
        "rows = cursor.fetchall()\n",
        "\n",
        "# Print all records\n",
        "print(\"Records in the 'users' table:\")\n",
        "for row in rows:\n",
        "    print(row)\n",
        "\n",
        "# Close the database connection\n",
        "connection.close()\n"
      ]
    },
    {
      "cell_type": "markdown",
      "metadata": {},
      "source": [
        "### Example 5 : User Interface"
      ]
    },
    {
      "cell_type": "code",
      "execution_count": null,
      "metadata": {},
      "outputs": [],
      "source": [
        "# creating a basic user interface using the tkinter module, \n",
        "# which is included with Python. This example creates a basic window with a single button.\n",
        "\n",
        "import tkinter as tk\n",
        "\n",
        "def on_button_click():\n",
        "    print(\"Button clicked!\")\n",
        "\n",
        "# Create the main window\n",
        "root = tk.Tk()\n",
        "root.title(\"Simple Tkinter Window\")\n",
        "\n",
        "# Create a button widget\n",
        "button = tk.Button(root, text=\"Click Me\", command=on_button_click)\n",
        "button.pack()\n",
        "\n",
        "# Run the GUI event loop\n",
        "root.mainloop()\n"
      ]
    }
  ],
  "metadata": {
    "colab": {
      "provenance": []
    },
    "kernelspec": {
      "display_name": "Python 3",
      "name": "python3"
    },
    "language_info": {
      "codemirror_mode": {
        "name": "ipython",
        "version": 3
      },
      "file_extension": ".py",
      "mimetype": "text/x-python",
      "name": "python",
      "nbconvert_exporter": "python",
      "pygments_lexer": "ipython3",
      "version": "3.11.7"
    }
  },
  "nbformat": 4,
  "nbformat_minor": 0
}
