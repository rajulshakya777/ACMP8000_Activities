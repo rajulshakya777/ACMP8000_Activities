{
  "cells": [
    {
      "cell_type": "markdown",
      "metadata": {
        "id": "s--UOvo--OlL"
      },
      "source": [
        "# Activity 1\n",
        "\n",
        "### Example 1 : Inheritence"
      ]
    },
    {
      "cell_type": "code",
      "execution_count": 1,
      "metadata": {},
      "outputs": [
        {
          "name": "stdout",
          "output_type": "stream",
          "text": [
            "I like to eat bones\n"
          ]
        }
      ],
      "source": [
        "class Animal:\n",
        "\n",
        "    # attributes and method of the parent class\n",
        "    name = \"\"\n",
        "    \n",
        "    def eat(self):\n",
        "        print(\"I can eat\")\n",
        "\n",
        "# inherit from Animal\n",
        "class Dog(Animal):\n",
        "\n",
        "    # override eat() method\n",
        "    def eat(self):\n",
        "        print(\"I like to eat bones\")\n",
        "\n",
        "# create an object of the subclass\n",
        "labrador = Dog()\n",
        "\n",
        "# call the eat() method on the labrador object\n",
        "labrador.eat()"
      ]
    },
    {
      "cell_type": "markdown",
      "metadata": {},
      "source": [
        "### Example 2 : Basic Threading"
      ]
    },
    {
      "cell_type": "code",
      "execution_count": 4,
      "metadata": {},
      "outputs": [
        {
          "name": "stdout",
          "output_type": "stream",
          "text": [
            "Countdown: 5\n",
            "Hello from another thread!\n",
            "Hello from another thread!\n",
            "Countdown: 4\n",
            "Hello from another thread!\n",
            "Hello from another thread!\n",
            "Countdown: 3\n",
            "Hello from another thread!\n",
            "Countdown: 2\n",
            "Countdown: 1\n",
            "Both threads are done!\n"
          ]
        }
      ],
      "source": [
        "import threading  # Import threading module for working with threads\n",
        "import time  # Import time module for adding sleep delays\n",
        "\n",
        "# Define a function to perform a countdown\n",
        "def countdown():\n",
        "    for i in range(5, 0, -1):  # Start at 5 and count down to 1\n",
        "        print(f\"Countdown: {i}\")  # Print the current countdown value\n",
        "        time.sleep(1)  # Pause execution for 1 second before the next number\n",
        "\n",
        "# Define a function to print a message multiple times\n",
        "def print_message():\n",
        "    for _ in range(5):  # Loop 5 times\n",
        "        print(\"Hello from another thread!\")  # Print the message\n",
        "        time.sleep(0.5)  # Pause execution for 0.5 seconds before the next print\n",
        "\n",
        "# Create threads for the two functions\n",
        "thread1 = threading.Thread(target=countdown)  # Create a thread to run the countdown function\n",
        "thread2 = threading.Thread(target=print_message)  # Create a thread to run the print_message function\n",
        "\n",
        "# Start the threads\n",
        "thread1.start()  # Begin execution of thread1 (the countdown)\n",
        "thread2.start()  # Begin execution of thread2 (printing messages)\n",
        "\n",
        "# Wait for both threads to finish before continuing\n",
        "thread1.join()  # Wait for thread1 (countdown) to finish\n",
        "thread2.join()  # Wait for thread2 (message printer) to finish\n",
        "\n",
        "print(\"Both threads are done!\")  # Print a message when both threads are complete\n"
      ]
    },
    {
      "cell_type": "markdown",
      "metadata": {},
      "source": [
        "### Example 3: System Administration"
      ]
    },
    {
      "cell_type": "code",
      "execution_count": 5,
      "metadata": {},
      "outputs": [
        {
          "name": "stdout",
          "output_type": "stream",
          "text": [
            "Command output:\n",
            "total 96\n",
            "-rw-r--r--@ 1 rajulshakywar  staff  21052 Sep 16 12:46 Codebook_activities.ipynb\n",
            "-rw-r--r--  1 rajulshakywar  staff   4373 Sep 16 13:05 Codewars_activities.ipynb\n",
            "-rw-r--r--  1 rajulshakywar  staff     22 Sep  4 14:16 README.md\n",
            "-rw-r--r--  1 rajulshakywar  staff   8192 Sep 16 12:34 example.db\n",
            "-rw-r--r--  1 rajulshakywar  staff     10 Sep 16 12:34 test.txt\n",
            "\n"
          ]
        }
      ],
      "source": [
        "import subprocess  # Import the subprocess module to execute shell commands\n",
        "\n",
        "def run_command(command):\n",
        "    try:\n",
        "        # Execute the command and capture its output\n",
        "        result = subprocess.run(command, shell=True, capture_output=True, text=True)\n",
        "        # Print the standard output from the command\n",
        "        print(\"Command output:\")\n",
        "        print(result.stdout)\n",
        "        # Print any error messages from the command\n",
        "        if result.stderr:\n",
        "            print(\"Command errors:\")\n",
        "            print(result.stderr)\n",
        "    except Exception as e:\n",
        "        print(f\"An error occurred: {e}\")  # Handle any exceptions that occur\n",
        "\n",
        "# Specify the shell command to execute\n",
        "command = 'ls -l'  # This command lists files in long format\n",
        "\n",
        "# Call the function to execute the command\n",
        "run_command(command)\n"
      ]
    },
    {
      "cell_type": "markdown",
      "metadata": {},
      "source": [
        "### Example 4 : Databases and Persistence"
      ]
    },
    {
      "cell_type": "code",
      "execution_count": 8,
      "metadata": {},
      "outputs": [
        {
          "name": "stdout",
          "output_type": "stream",
          "text": [
            "Records in the 'users' table:\n",
            "(1, 'Alice', 30)\n"
          ]
        }
      ],
      "source": [
        "import sqlite3\n",
        "\n",
        "# Connect to the SQLite database 'example.db'\n",
        "connection = sqlite3.connect('example.db')\n",
        "\n",
        "# Create a cursor object to execute SQL commands\n",
        "cursor = connection.cursor()\n",
        "\n",
        "# SQL command to create a new table 'users'\n",
        "cursor.execute('''\n",
        "    CREATE TABLE IF NOT EXISTS users (\n",
        "        id INTEGER PRIMARY KEY,\n",
        "        name TEXT NOT NULL,\n",
        "        age INTEGER\n",
        "    )\n",
        "''')\n",
        "\n",
        "# SQL command to insert a new record into the 'users' table\n",
        "cursor.execute('''\n",
        "    INSERT INTO users (name, age) VALUES (?, ?)\n",
        "''', ('Alice', 30))  # Insert a record with name 'Alice' and age 30\n",
        "\n",
        "# Save the changes to the database\n",
        "connection.commit()\n",
        "\n",
        "# Query to retrieve all records from the 'users' table\n",
        "cursor.execute('SELECT * FROM users')\n",
        "rows = cursor.fetchall()\n",
        "\n",
        "# Print all records\n",
        "print(\"Records in the 'users' table:\")\n",
        "for row in rows:\n",
        "    print(row)\n",
        "\n",
        "# Close the database connection\n",
        "connection.close()\n"
      ]
    },
    {
      "cell_type": "markdown",
      "metadata": {},
      "source": [
        "### Example 5 : User Interface"
      ]
    },
    {
      "cell_type": "code",
      "execution_count": null,
      "metadata": {},
      "outputs": [],
      "source": [
        "# creating a basic user interface using the tkinter module, \n",
        "# which is included with Python. This example creates a basic window with a single button.\n",
        "\n",
        "import tkinter as tk\n",
        "\n",
        "def on_button_click():\n",
        "    print(\"Button clicked!\")\n",
        "\n",
        "# Create the main window\n",
        "root = tk.Tk()\n",
        "root.title(\"Simple Tkinter Window\")\n",
        "\n",
        "# Create a button widget\n",
        "button = tk.Button(root, text=\"Click Me\", command=on_button_click)\n",
        "button.pack()\n",
        "\n",
        "# Run the GUI event loop\n",
        "root.mainloop()\n"
      ]
    },
    {
      "cell_type": "markdown",
      "metadata": {},
      "source": [
        "## SW 2.3 Codewars activities"
      ]
    },
    {
      "cell_type": "markdown",
      "metadata": {},
      "source": [
        "#### Example 1 : Checking Disk Usage"
      ]
    },
    {
      "cell_type": "code",
      "execution_count": 6,
      "metadata": {},
      "outputs": [
        {
          "name": "stdout",
          "output_type": "stream",
          "text": [
            "Total Disk Space: 460Gi, Used: 19Gi, Free: 284Gi\n"
          ]
        }
      ],
      "source": [
        "import os\n",
        "\n",
        "def check_disk_usage():\n",
        "    total, used, free = os.popen('df -h /').readlines()[1].split()[1:4]\n",
        "    print(f\"Total Disk Space: {total}, Used: {used}, Free: {free}\")\n",
        "\n",
        "check_disk_usage()\n"
      ]
    },
    {
      "cell_type": "markdown",
      "metadata": {},
      "source": [
        "#### Example 2: Simple Web Server Using Flask"
      ]
    },
    {
      "cell_type": "code",
      "execution_count": null,
      "metadata": {},
      "outputs": [],
      "source": [
        "from flask import Flask\n",
        "\n",
        "app = Flask(__name__)\n",
        "\n",
        "@app.route('/')\n",
        "def home():\n",
        "    return \"Welcome to the Simple Web Server!\"\n",
        "\n",
        "if __name__ == '__main__':\n",
        "    app.run(debug=True)\n"
      ]
    },
    {
      "cell_type": "markdown",
      "metadata": {},
      "source": [
        "#### Example 3: Parsing XML with ElementTree"
      ]
    },
    {
      "cell_type": "code",
      "execution_count": 8,
      "metadata": {},
      "outputs": [
        {
          "name": "stdout",
          "output_type": "stream",
          "text": [
            "Name: Item 1, Value: 10\n",
            "Name: Item 2, Value: 20\n"
          ]
        }
      ],
      "source": [
        "import xml.etree.ElementTree as ET\n",
        "\n",
        "xml_data = '''<data>\n",
        "    <item>\n",
        "        <name>Item 1</name>\n",
        "        <value>10</value>\n",
        "    </item>\n",
        "    <item>\n",
        "        <name>Item 2</name>\n",
        "        <value>20</value>\n",
        "    </item>\n",
        "</data>'''\n",
        "\n",
        "root = ET.fromstring(xml_data)\n",
        "\n",
        "for item in root.findall('item'):\n",
        "    name = item.find('name').text\n",
        "    value = item.find('value').text\n",
        "    print(f\"Name: {name}, Value: {value}\")\n"
      ]
    },
    {
      "cell_type": "markdown",
      "metadata": {},
      "source": [
        "#### Example 4: Simple Client-Server Communication Using Sockets"
      ]
    },
    {
      "cell_type": "code",
      "execution_count": null,
      "metadata": {},
      "outputs": [],
      "source": [
        "# Server code :\n",
        "import socket\n",
        "\n",
        "def start_server():\n",
        "    server_socket = socket.socket(socket.AF_INET, socket.SOCK_STREAM)\n",
        "    server_socket.bind(('localhost', 12345))\n",
        "    server_socket.listen(1)\n",
        "    \n",
        "    print(\"Server is listening...\")\n",
        "    conn, addr = server_socket.accept()\n",
        "    print(f\"Connection from {addr}\")\n",
        "    conn.send(b\"Hello from the server!\")\n",
        "    conn.close()\n",
        "\n",
        "start_server()\n"
      ]
    },
    {
      "cell_type": "code",
      "execution_count": 9,
      "metadata": {},
      "outputs": [],
      "source": [
        "# Client code \n",
        "import socket\n",
        "\n",
        "def start_client():\n",
        "    client_socket = socket.socket(socket.AF_INET, socket.SOCK_STREAM)\n",
        "    client_socket.connect(('localhost', 12345))\n",
        "    \n",
        "    message = client_socket.recv(1024)\n",
        "    print(message.decode())\n",
        "    client_socket.close()\n",
        "\n",
        "start_client()\n"
      ]
    },
    {
      "cell_type": "markdown",
      "metadata": {},
      "source": [
        "## SW 2.4 Codewars activities"
      ]
    },
    {
      "cell_type": "markdown",
      "metadata": {},
      "source": [
        "#### Example 1 : Simple Unit Test"
      ]
    },
    {
      "cell_type": "code",
      "execution_count": 2,
      "metadata": {},
      "outputs": [
        {
          "name": "stderr",
          "output_type": "stream",
          "text": [
            "test_add (__main__.TestAddFunction.test_add) ... ok\n",
            "\n",
            "----------------------------------------------------------------------\n",
            "Ran 1 test in 0.001s\n",
            "\n",
            "OK\n"
          ]
        }
      ],
      "source": [
        "import unittest\n",
        "\n",
        "def add(a, b):\n",
        "    return a + b\n",
        "\n",
        "class TestAddFunction(unittest.TestCase):\n",
        "    def test_add(self):\n",
        "        self.assertEqual(add(1, 2), 3)\n",
        "        self.assertEqual(add(-1, 1), 0)\n",
        "\n",
        "# This will run the tests\n",
        "if __name__ == '__main__':\n",
        "    suite = unittest.TestLoader().loadTestsFromTestCase(TestAddFunction)\n",
        "    unittest.TextTestRunner(verbosity=2).run(suite)\n"
      ]
    },
    {
      "cell_type": "markdown",
      "metadata": {},
      "source": [
        "#### Example 2 : Listing Functions in a Module"
      ]
    },
    {
      "cell_type": "code",
      "execution_count": 3,
      "metadata": {},
      "outputs": [
        {
          "name": "stdout",
          "output_type": "stream",
          "text": [
            "['add', 'another_function', 'my_function', 'open']\n"
          ]
        }
      ],
      "source": [
        "import inspect\n",
        "\n",
        "def my_function():\n",
        "    pass\n",
        "\n",
        "def another_function():\n",
        "    pass\n",
        "\n",
        "# List functions in the current module\n",
        "functions_list = [func for func in dir() if inspect.isfunction(globals()[func])]\n",
        "print(functions_list)\n"
      ]
    },
    {
      "cell_type": "markdown",
      "metadata": {},
      "source": [
        "#### Example 3: Simple Extension Using ctypes"
      ]
    },
    {
      "cell_type": "code",
      "execution_count": null,
      "metadata": {},
      "outputs": [],
      "source": [
        "import ctypes\n",
        "\n",
        "# Create a simple C function in a shared library (for demonstration, assume it's precompiled)\n",
        "# C code: int add(int a, int b) { return a + b; }\n",
        "lib = ctypes.CDLL('./mylib.so')  # Load the shared library\n",
        "lib.add.argtypes = (ctypes.c_int, ctypes.c_int)\n",
        "lib.add.restype = ctypes.c_int\n",
        "\n",
        "result = lib.add(5, 3)\n",
        "print(result)  # Output: 8\n"
      ]
    },
    {
      "cell_type": "markdown",
      "metadata": {},
      "source": [
        "#### Example 4: Simple Sorting Algorithm (Bubble Sort)"
      ]
    },
    {
      "cell_type": "code",
      "execution_count": 5,
      "metadata": {},
      "outputs": [
        {
          "name": "stdout",
          "output_type": "stream",
          "text": [
            "[11, 12, 22, 25, 34, 64, 90]\n"
          ]
        }
      ],
      "source": [
        "def bubble_sort(arr):\n",
        "    n = len(arr)\n",
        "    for i in range(n):\n",
        "        for j in range(0, n-i-1):\n",
        "            if arr[j] > arr[j+1]:\n",
        "                arr[j], arr[j+1] = arr[j+1], arr[j]  # Swap\n",
        "    return arr\n",
        "\n",
        "# Test the bubble sort function\n",
        "unsorted_list = [64, 34, 25, 12, 22, 11, 90]\n",
        "sorted_list = bubble_sort(unsorted_list)\n",
        "print(sorted_list)  # Output: [11, 12, 22, 25, 34, 64, 90]\n"
      ]
    },
    {
      "cell_type": "code",
      "execution_count": null,
      "metadata": {},
      "outputs": [],
      "source": []
    }
  ],
  "metadata": {
    "colab": {
      "provenance": []
    },
    "kernelspec": {
      "display_name": "Python 3",
      "name": "python3"
    },
    "language_info": {
      "codemirror_mode": {
        "name": "ipython",
        "version": 3
      },
      "file_extension": ".py",
      "mimetype": "text/x-python",
      "name": "python",
      "nbconvert_exporter": "python",
      "pygments_lexer": "ipython3",
      "version": "3.11.7"
    }
  },
  "nbformat": 4,
  "nbformat_minor": 0
}
