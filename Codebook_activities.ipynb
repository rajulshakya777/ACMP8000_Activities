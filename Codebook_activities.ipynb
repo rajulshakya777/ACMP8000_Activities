{
  "cells": [
    {
      "cell_type": "markdown",
      "metadata": {
        "id": "s--UOvo--OlL"
      },
      "source": [
        "# Activity 1\n",
        "\n",
        "## Activity 1.1 : Codebook\n"
      ]
    },
    {
      "cell_type": "markdown",
      "metadata": {
        "id": "ljuRPp3AdNDi"
      },
      "source": [
        "### Example 1 : Associating Multiple Values with Each Key in a Dictionary"
      ]
    },
    {
      "cell_type": "markdown",
      "metadata": {
        "id": "o3aupTCG-Ucm"
      },
      "source": [
        "### Approach 1"
      ]
    },
    {
      "cell_type": "code",
      "execution_count": 2,
      "metadata": {
        "colab": {
          "base_uri": "https://localhost:8080/"
        },
        "id": "XG7LBFyC-O6M",
        "outputId": "083b8bc3-ca6f-4159-fda2-5d1d7a140636"
      },
      "outputs": [
        {
          "name": "stdout",
          "output_type": "stream",
          "text": [
            "['apple', 'ant', 'apple']\n",
            "'apple' is still in the list\n"
          ]
        }
      ],
      "source": [
        "# Initialize an empty dictionary\n",
        "example1 = {}\n",
        "\n",
        "# Add 'apple' to the list of values associated with key 'a'\n",
        "example1.setdefault('a', []).append('apple')\n",
        "\n",
        "# Add 'boots' to the list of values associated with key 'b'\n",
        "example1.setdefault('b', []).append('boots')\n",
        "\n",
        "# Add 'cat' to the list of values associated with key 'c'\n",
        "example1.setdefault('c', []).append('cat')\n",
        "\n",
        "# Add 'ant' to the list of values associated with key 'a'\n",
        "example1.setdefault('a', []).append('ant')\n",
        "\n",
        "# Add 'apple' again to the list of values associated with key 'a'\n",
        "example1.setdefault('a', []).append('apple')\n",
        "\n",
        "# Print the values associated with key 'a'\n",
        "# Output: ['apple', 'ant', 'apple']\n",
        "print(example1['a'])\n",
        "\n",
        "# Remove one occurrence of 'apple' from the list associated with 'a'\n",
        "example1['a'].remove('apple')\n",
        "\n",
        "# Check if 'apple' is still in the list associated with 'a'\n",
        "if 'apple' in example1['a']:\n",
        "    print(\"'apple' is still in the list\")  # Output will be printed\n"
      ]
    },
    {
      "cell_type": "markdown",
      "metadata": {
        "id": "oIsKQNL299YV"
      },
      "source": [
        "### Approach 2"
      ]
    },
    {
      "cell_type": "code",
      "execution_count": 3,
      "metadata": {
        "colab": {
          "base_uri": "https://localhost:8080/"
        },
        "id": "bRXdcfOU946s",
        "outputId": "1c996aea-4a06-402c-920f-1f221ea20d7f"
      },
      "outputs": [
        {
          "name": "stdout",
          "output_type": "stream",
          "text": [
            "{'apple': 1, 'ant': 1}\n",
            "'apple' has been removed\n"
          ]
        }
      ],
      "source": [
        "# Initialize an empty dictionary\n",
        "example2 = {}\n",
        "\n",
        "# Add 'apple' to the dictionary associated with key 'a'\n",
        "example2.setdefault('a', {})['apple'] = 1\n",
        "\n",
        "# Add 'boots' to the dictionary associated with key 'b'\n",
        "example2.setdefault('b', {})['boots'] = 1\n",
        "\n",
        "# Add 'cat' to the dictionary associated with key 'c'\n",
        "example2.setdefault('c', {})['cat'] = 1\n",
        "\n",
        "# Add 'ant' to the dictionary associated with key 'a'\n",
        "example2.setdefault('a', {})['ant'] = 1\n",
        "\n",
        "# Try adding 'apple' again to the dictionary associated with key 'a'\n",
        "# 'apple' will not be duplicated because we're using a dictionary\n",
        "example2.setdefault('a', {})['apple'] = 1\n",
        "\n",
        "# Print the values associated with key 'a'\n",
        "# Output: {'apple': 1, 'ant': 1}\n",
        "print(example2['a'])\n",
        "\n",
        "# Remove 'apple' from the dictionary associated with 'a'\n",
        "del example2['a']['apple']\n",
        "\n",
        "# Check if 'apple' is still in the dictionary associated with 'a'\n",
        "if 'apple' in example2['a']:\n",
        "    print(\"'apple' is still in the dictionary\")\n",
        "else:\n",
        "    print(\"'apple' has been removed\")  # Output will be printed\n"
      ]
    },
    {
      "cell_type": "markdown",
      "metadata": {
        "id": "FBNVGPzVIWVm"
      },
      "source": [
        "### Example 2: Showing Off Quicksort in Three Lines"
      ]
    },
    {
      "cell_type": "code",
      "execution_count": 4,
      "metadata": {
        "colab": {
          "base_uri": "https://localhost:8080/"
        },
        "id": "t1qj7egg-Fqv",
        "outputId": "63a50e49-8f74-4431-8d21-9a7b5010e10f"
      },
      "outputs": [
        {
          "name": "stdout",
          "output_type": "stream",
          "text": [
            "Original list: [0, 1, 6, 8, 2, 4, 3, 7, 9, 5]\n",
            "Sorted list: [0, 1, 2, 3, 4, 5, 6, 7, 8, 9]\n"
          ]
        }
      ],
      "source": [
        "# Define a quicksort function\n",
        "def qsort(L):\n",
        "    # Base case: if the list has 1 or 0 elements, it's already sorted\n",
        "    if len(L) <= 1:\n",
        "        return L\n",
        "\n",
        "    # Recursive case:\n",
        "    # Sort elements less than the pivot, concatenate with the pivot,\n",
        "    # and sort elements greater than or equal to the pivot\n",
        "    return qsort([lt for lt in L[1:] if lt < L[0]]) + L[0:1] + \\\n",
        "           qsort([ge for ge in L[1:] if ge >= L[0]])\n",
        "\n",
        "# Test function to verify that qsort works correctly\n",
        "def qs_test(length):\n",
        "    import random\n",
        "\n",
        "    # Generate a list of integers from 0 to length-1\n",
        "    joe = list(range(length))\n",
        "\n",
        "    # Shuffle the list to randomize the order\n",
        "    random.shuffle(joe)\n",
        "\n",
        "    # Print the original unsorted list\n",
        "    print(\"Original list:\", joe)\n",
        "\n",
        "    # Sort the list using qsort\n",
        "    qsJoe = qsort(joe)\n",
        "\n",
        "    # Print the sorted list\n",
        "    print(\"Sorted list:\", qsJoe)\n",
        "\n",
        "    # Verify that the sorted list is in correct order\n",
        "    for i in range(len(qsJoe)):\n",
        "        assert qsJoe[i] == i, f'qsort is broken at {i}!'  # Raises an error if sorting is incorrect\n",
        "\n",
        "# Run the test function with a list of length 10\n",
        "qs_test(10)\n"
      ]
    },
    {
      "cell_type": "markdown",
      "metadata": {
        "id": "wubGflzbInnp"
      },
      "source": [
        "### Example 3: Testing Whether a String Represents an Integer\n"
      ]
    },
    {
      "cell_type": "code",
      "execution_count": 5,
      "metadata": {
        "colab": {
          "base_uri": "https://localhost:8080/"
        },
        "id": "SfVhg9iqIh-2",
        "outputId": "9aa41822-ddc6-437d-8208-861deb9a9f10"
      },
      "outputs": [
        {
          "name": "stdout",
          "output_type": "stream",
          "text": [
            "1\n",
            "0\n",
            "1\n",
            "1\n"
          ]
        }
      ],
      "source": [
        "# Function to check if a string represents an integer\n",
        "def isInt(astring):\n",
        "    \"\"\" Check if the given string is an integer. \"\"\"\n",
        "    try:\n",
        "        # Attempt to convert the string to an integer\n",
        "        int(astring)\n",
        "    except ValueError:\n",
        "        # If conversion fails, return 0 (not an integer)\n",
        "        return 0\n",
        "    else:\n",
        "        # If conversion succeeds, return 1 (is an integer)\n",
        "        return 1\n",
        "\n",
        "# Function to check if a string contains only digits\n",
        "def isAllDigits(astring):\n",
        "    \"\"\" Check if the string is composed entirely of digits. \"\"\"\n",
        "\n",
        "    # Import the string module to access digit characters\n",
        "    import string\n",
        "\n",
        "    # Define acceptable characters (digits)\n",
        "    acceptable_characters = string.digits\n",
        "\n",
        "    # Check each character in the string\n",
        "    for acharacter in astring:\n",
        "        # If a character is not a digit, return 0 (not all digits)\n",
        "        if acharacter not in acceptable_characters:\n",
        "            return 0\n",
        "\n",
        "    # If all characters are digits, return 1 (all digits)\n",
        "    return 1\n",
        "\n",
        "# Test the functions when the module is run as a script\n",
        "if __name__ == \"__main__\":\n",
        "    print(isInt('23'))  # Output: 1\n",
        "    print(isInt('sd'))  # Output: 0\n",
        "    print(isInt('233835859285'))  # Output: 1\n",
        "    print(isAllDigits('233835859285'))  # Output: 1\n"
      ]
    },
    {
      "cell_type": "markdown",
      "metadata": {
        "id": "L_ysT4NZb-Z-"
      },
      "source": [
        "## Activity 1.2 : Codewars"
      ]
    },
    {
      "cell_type": "code",
      "execution_count": 8,
      "metadata": {
        "id": "E0NdDnE2Isql"
      },
      "outputs": [
        {
          "name": "stdout",
          "output_type": "stream",
          "text": [
            "Bubba\n"
          ]
        }
      ],
      "source": [
        "# Example 1\n",
        "class Python:\n",
        "    def __init__(self, name):\n",
        "        self.name = name  # Store the provided name in the instance variable\n",
        "\n",
        "    def __repr__(self):\n",
        "        return self.name  # Return the stored name\n",
        "\n",
        "# Example usage:\n",
        "bubba = Python('Bubba')  # Create an instance of Python with name 'Bubba'\n",
        "print(bubba)  # This should output: 'Bubba'\n"
      ]
    },
    {
      "cell_type": "code",
      "execution_count": 10,
      "metadata": {
        "id": "8mVyB50Ebdfq"
      },
      "outputs": [
        {
          "name": "stdout",
          "output_type": "stream",
          "text": [
            "[1, 2, 4, 3, 7]\n"
          ]
        }
      ],
      "source": [
        "def sort_by_bit(arr):\n",
        "    # Define a helper function to count the number of 1 bits in binary representation\n",
        "    def sort_key(x):\n",
        "        # Count the number of 1 bits in the binary representation of x\n",
        "        count = bin(x).count('1')\n",
        "        return (count, x)\n",
        "    \n",
        "    # Sort the array in place using the sort_key as the key\n",
        "    arr.sort(key=sort_key)\n",
        "\n",
        "# Example usage:\n",
        "arr = [3, 1, 4, 2, 7]\n",
        "sort_by_bit(arr)\n",
        "print(arr)  # Output should be sorted by number of 1 bits, then by number itself\n"
      ]
    },
    {
      "cell_type": "code",
      "execution_count": 11,
      "metadata": {
        "id": "6yyJ-eknb5qt"
      },
      "outputs": [
        {
          "name": "stdout",
          "output_type": "stream",
          "text": [
            "['HELLO', 'ELLOH', 'LLOHE', 'LOHEL', 'OHELL']\n"
          ]
        }
      ],
      "source": [
        "def scrolling_text(text):\n",
        "    # Convert the text to uppercase\n",
        "    text = text.upper()\n",
        "    \n",
        "    # Define an empty list to store the rotations\n",
        "    rotations = []\n",
        "    \n",
        "    # Get the length of the text\n",
        "    length = len(text)\n",
        "    \n",
        "    # Generate all rotations of the text\n",
        "    for i in range(length):\n",
        "        rotated_text = text[i:] + text[:i]  # Create a rotation\n",
        "        rotations.append(rotated_text)  # Add the rotation to the list\n",
        "    \n",
        "    return rotations\n",
        "\n",
        "# Example usage:\n",
        "text = \"hello\"\n",
        "result = scrolling_text(text)\n",
        "print(result)  # Output: ['HELLO', 'ELLOH', 'LLOHE', 'LOHEL', 'OHELL']\n"
      ]
    },
    {
      "cell_type": "markdown",
      "metadata": {
        "id": "xWc7X-Z3wPth"
      },
      "source": [
        "# **Week 2**\n",
        "Example 1"
      ]
    },
    {
      "cell_type": "code",
      "execution_count": 12,
      "metadata": {
        "colab": {
          "base_uri": "https://localhost:8080/",
          "height": 0
        },
        "id": "1PE2dYnIwO5c",
        "outputId": "a46b55dc-100e-49b4-8388-856760ec0038"
      },
      "outputs": [
        {
          "name": "stdout",
          "output_type": "stream",
          "text": [
            "Buddy says Woof!\n",
            "Whiskers says Meow!\n"
          ]
        }
      ],
      "source": [
        "# Base class definition\n",
        "class Animal:\n",
        "    # Constructor to initialize the name attribute\n",
        "    def __init__(self, name):\n",
        "        self.name = name\n",
        "\n",
        "    # Method to be overridden in derived classes\n",
        "    def speak(self):\n",
        "        raise NotImplementedError(\"Subclasses must implement this method\")\n",
        "\n",
        "# Derived class definition for Dog\n",
        "class Dog(Animal):\n",
        "    # Implement the speak method for Dog\n",
        "    def speak(self):\n",
        "        return f\"{self.name} says Woof!\"\n",
        "\n",
        "# Derived class definition for Cat\n",
        "class Cat(Animal):\n",
        "    # Implement the speak method for Cat\n",
        "    def speak(self):\n",
        "        return f\"{self.name} says Meow!\"\n",
        "\n",
        "# Create a Dog instance\n",
        "dog = Dog(\"Buddy\")\n",
        "# Create a Cat instance\n",
        "cat = Cat(\"Whiskers\")\n",
        "\n",
        "# Print the sound made by the Dog\n",
        "print(dog.speak())  # Output: Buddy says Woof!\n",
        "# Print the sound made by the Cat\n",
        "print(cat.speak())  # Output: Whiskers says Meow!\n"
      ]
    },
    {
      "cell_type": "markdown",
      "metadata": {
        "id": "RXp7S7VQwsHO"
      },
      "source": [
        "Example 2"
      ]
    },
    {
      "cell_type": "code",
      "execution_count": 13,
      "metadata": {
        "colab": {
          "base_uri": "https://localhost:8080/",
          "height": 0
        },
        "id": "QRQMB7CGwi9L",
        "outputId": "342555d5-af4b-400c-e719-0a4fbb332a66"
      },
      "outputs": [
        {
          "name": "stdout",
          "output_type": "stream",
          "text": [
            "Number: 0\n",
            "Letter: a\n",
            "Number: 1\n",
            "Letter: b\n",
            "Number: 2\n",
            "Letter: c\n",
            "Number: 3\n",
            "Letter: d\n",
            "Number: 4\n",
            "Letter: e\n"
          ]
        }
      ],
      "source": [
        "import threading\n",
        "import time\n",
        "\n",
        "# Function to print numbers\n",
        "def print_numbers():\n",
        "    for i in range(5):\n",
        "        print(f\"Number: {i}\")\n",
        "        time.sleep(1)  # Sleep for 1 second\n",
        "\n",
        "# Function to print letters\n",
        "def print_letters():\n",
        "    for letter in 'abcde':\n",
        "        print(f\"Letter: {letter}\")\n",
        "        time.sleep(1)  # Sleep for 1 second\n",
        "\n",
        "# Create a thread for print_numbers function\n",
        "thread1 = threading.Thread(target=print_numbers)\n",
        "# Create a thread for print_letters function\n",
        "thread2 = threading.Thread(target=print_letters)\n",
        "\n",
        "# Start the threads\n",
        "thread1.start()\n",
        "thread2.start()\n",
        "\n",
        "# Wait for both threads to complete\n",
        "thread1.join()\n",
        "thread2.join()\n"
      ]
    },
    {
      "cell_type": "markdown",
      "metadata": {
        "id": "_IsjUQY-w25G"
      },
      "source": [
        "Example 3"
      ]
    },
    {
      "cell_type": "code",
      "execution_count": 15,
      "metadata": {
        "colab": {
          "base_uri": "https://localhost:8080/",
          "height": 0
        },
        "id": "tqkhd4l6wt9j",
        "outputId": "4325f81e-aa14-4f11-b9f3-943a72185119"
      },
      "outputs": [
        {
          "name": "stdout",
          "output_type": "stream",
          "text": [
            "Hi, hello \n"
          ]
        }
      ],
      "source": [
        "# Open 'example.txt' file in read mode\n",
        "with open('./test.txt', 'r') as file:\n",
        "    # Read the entire contents of the file\n",
        "    contents = file.read()\n",
        "\n",
        "# Print the contents of the file to the console\n",
        "print(contents)\n",
        "\n"
      ]
    },
    {
      "cell_type": "markdown",
      "metadata": {
        "id": "ULETwn-qw_on"
      },
      "source": [
        "Example 4"
      ]
    },
    {
      "cell_type": "code",
      "execution_count": 16,
      "metadata": {
        "id": "GaeK58BZw4eR"
      },
      "outputs": [],
      "source": [
        "import sqlite3\n",
        "\n",
        "# Connect to the SQLite database 'example.db'\n",
        "connection = sqlite3.connect('example.db')\n",
        "\n",
        "# Create a cursor object to execute SQL commands\n",
        "cursor = connection.cursor()\n",
        "\n",
        "# SQL command to create a new table 'users'\n",
        "cursor.execute('''\n",
        "    CREATE TABLE IF NOT EXISTS users (\n",
        "        id INTEGER PRIMARY KEY,\n",
        "        name TEXT NOT NULL,\n",
        "        age INTEGER\n",
        "    )\n",
        "''')\n",
        "\n",
        "# Save the changes to the database\n",
        "connection.commit()\n",
        "# Close the database connection\n",
        "connection.close()"
      ]
    },
    {
      "cell_type": "markdown",
      "metadata": {},
      "source": [
        "Example 5"
      ]
    },
    {
      "cell_type": "code",
      "execution_count": null,
      "metadata": {},
      "outputs": [],
      "source": [
        "from PyQt5.QtWidgets import QApplication, QLabel, QMainWindow\n",
        "\n",
        "class MainWindow(QMainWindow):\n",
        "    def __init__(self):\n",
        "        super().__init__()  # Initialize the QMainWindow base class\n",
        "        self.setWindowTitle(\"Simple PyQt5 Window\")  # Set the window title to \"Simple PyQt5 Window\"\n",
        "        label = QLabel(\"Hello, PyQt5!\", self)  # Create a QLabel widget with the text \"Hello, PyQt5!\" and set it as the central widget\n",
        "        self.setCentralWidget(label)  # Set the label widget as the central widget of the window\n",
        "\n",
        "# Create the application object, which is necessary to run the PyQt application\n",
        "app = QApplication([])\n",
        "\n",
        "# Create an instance of the MainWindow class\n",
        "window = MainWindow()\n",
        "# Display the main window\n",
        "window.show()\n",
        "\n",
        "# Start the application's event loop, which waits for events and handles user interactions\n",
        "app.exec_()\n"
      ]
    },
    {
      "cell_type": "markdown",
      "metadata": {},
      "source": [
        "## SW 2.3 Codebook examples"
      ]
    },
    {
      "cell_type": "markdown",
      "metadata": {},
      "source": [
        "#### Example 1 : Copying or Moving Files and Directories"
      ]
    },
    {
      "cell_type": "code",
      "execution_count": 9,
      "metadata": {},
      "outputs": [
        {
          "data": {
            "text/plain": [
              "'./output/destination.txt'"
            ]
          },
          "execution_count": 9,
          "metadata": {},
          "output_type": "execute_result"
        }
      ],
      "source": [
        "import shutil  # Import shutil module to handle file copying and moving\n",
        "\n",
        "# Copy a file from source to destination\n",
        "shutil.copy('test.txt', './output/destination.txt')\n",
        "\n",
        "# Move a file from source to destination (like cutting and pasting)\n",
        "shutil.move('test.txt', './output/destination.txt')"
      ]
    },
    {
      "cell_type": "markdown",
      "metadata": {},
      "source": [
        "#### Example 2 :  Downloading a File via HTTP"
      ]
    },
    {
      "cell_type": "code",
      "execution_count": 10,
      "metadata": {},
      "outputs": [],
      "source": [
        "import urllib.request  # Import urllib.request to download files from the web\n",
        "\n",
        "# Open the URL and read the file content\n",
        "with urllib.request.urlopen('https://example-files.online-convert.com/document/txt/example.txt') as response:\n",
        "    data = response.read()  # Read the data from the URL\n",
        "\n",
        "# Write the downloaded content to a local file\n",
        "with open('./output/downloaded_file.txt', 'wb') as f:\n",
        "    f.write(data)  # Save the file in binary mode\n"
      ]
    },
    {
      "cell_type": "markdown",
      "metadata": {},
      "source": [
        "#### Example 3 : Creating XML Documents"
      ]
    },
    {
      "cell_type": "code",
      "execution_count": 11,
      "metadata": {},
      "outputs": [],
      "source": [
        "import xml.etree.ElementTree as ET  # Import ElementTree to create and handle XML\n",
        "\n",
        "# Create the root element\n",
        "root = ET.Element('data')\n",
        "\n",
        "# Create a child element with text content\n",
        "item1 = ET.SubElement(root, 'item', name='Item1')\n",
        "item1.text = 'Value1'\n",
        "\n",
        "# Create another child element with text content\n",
        "item2 = ET.SubElement(root, 'item', name='Item2')\n",
        "item2.text = 'Value2'\n",
        "\n",
        "# Convert the XML tree to a string and write it to a file\n",
        "tree = ET.ElementTree(root)\n",
        "tree.write('./output/output.xml')\n"
      ]
    },
    {
      "cell_type": "markdown",
      "metadata": {},
      "source": [
        "#### Example 4 : Creating a Simple Client-Server with socket"
      ]
    },
    {
      "cell_type": "code",
      "execution_count": null,
      "metadata": {},
      "outputs": [],
      "source": [
        "# Server\n",
        "import socket  # Import the socket module for network programming\n",
        "\n",
        "# Create a socket object for the server\n",
        "server_socket = socket.socket(socket.AF_INET, socket.SOCK_STREAM)\n",
        "\n",
        "# Bind the socket to a specific IP and port\n",
        "server_socket.bind(('localhost', 8080))\n",
        "\n",
        "# Set up the socket to listen for incoming connections\n",
        "server_socket.listen(1)\n",
        "print(\"Server is listening on port 8080...\")\n",
        "\n",
        "# Accept an incoming connection from a client\n",
        "client_socket, addr = server_socket.accept()\n",
        "print(f\"Connection from {addr} has been established.\")\n",
        "\n",
        "# Receive data from the client\n",
        "data = client_socket.recv(1024).decode('utf-8')\n",
        "print(f\"Received message: {data}\")\n",
        "\n",
        "# Send a response back to the client\n",
        "client_socket.send(\"Hello, Client!\".encode('utf-8'))\n",
        "\n",
        "# Close the connection\n",
        "client_socket.close()\n",
        "server_socket.close()\n"
      ]
    },
    {
      "cell_type": "code",
      "execution_count": null,
      "metadata": {},
      "outputs": [],
      "source": [
        "# Client code \n",
        "\n",
        "import socket  # Import the socket module\n",
        "\n",
        "# Create a socket object for the client\n",
        "client_socket = socket.socket(socket.AF_INET, socket.SOCK_STREAM)\n",
        "\n",
        "# Connect to the server at localhost on port 8080\n",
        "client_socket.connect(('localhost', 8080))\n",
        "\n",
        "# Send a message to the server\n",
        "client_socket.send(\"Hello, Server!\".encode('utf-8'))\n",
        "\n",
        "# Receive the server's response\n",
        "response = client_socket.recv(1024).decode('utf-8')\n",
        "print(f\"Server response: {response}\")\n",
        "\n",
        "# Close the connection\n",
        "client_socket.close()\n"
      ]
    },
    {
      "cell_type": "markdown",
      "metadata": {},
      "source": [
        "## SW 2.4 Codebook Examples"
      ]
    },
    {
      "cell_type": "markdown",
      "metadata": {},
      "source": [
        "#### Example 1 : Using pdb for Debugging"
      ]
    },
    {
      "cell_type": "code",
      "execution_count": 1,
      "metadata": {},
      "outputs": [],
      "source": [
        "import pdb  # Import the pdb module to enable debugging\n",
        "\n",
        "def add(a, b):\n",
        "    result = a + b  # Simple function to add two numbers\n",
        "    return result\n",
        "\n",
        "a = 1\n",
        "# Set a breakpoint here to pause execution and inspect variables\n",
        "pdb.set_trace()\n",
        "\n",
        "# Call the add function\n",
        "x = add(3, 4)\n",
        "\n",
        "# Print the result\n",
        "print(f\"The result is: {x}\")\n"
      ]
    },
    {
      "cell_type": "markdown",
      "metadata": {},
      "source": [
        "#### Example 2 : Introspecting Functions"
      ]
    },
    {
      "cell_type": "code",
      "execution_count": 2,
      "metadata": {},
      "outputs": [
        {
          "name": "stdout",
          "output_type": "stream",
          "text": [
            "[]\n",
            "Function signature: (a, b)\n"
          ]
        }
      ],
      "source": [
        "import inspect  # Import the inspect module to get information about functions\n",
        "\n",
        "# Define a sample function with arguments\n",
        "def sample_function(a, b):\n",
        "    return a + b\n",
        "\n",
        "# Get and print the function's name using inspect\n",
        "print(inspect.getmembers(sample_function, inspect.isfunction))\n",
        "\n",
        "# Get the function's signature (parameters and their default values)\n",
        "signature = inspect.signature(sample_function)\n",
        "print(f\"Function signature: {signature}\")\n"
      ]
    },
    {
      "cell_type": "markdown",
      "metadata": {},
      "source": [
        "#### Example 3 : Writing a C Extension Module"
      ]
    },
    {
      "cell_type": "code",
      "execution_count": null,
      "metadata": {},
      "outputs": [],
      "source": [
        "// Simple C function to return \"Hello, world!\" from Python\n",
        "#include <Python.h>\n",
        "\n",
        "static PyObject* hello_world(PyObject* self, PyObject* args) {\n",
        "    return Py_BuildValue(\"s\", \"Hello, world!\");\n",
        "}\n",
        "\n",
        "// Define the method table\n",
        "static PyMethodDef HelloMethods[] = {\n",
        "    {\"hello\", hello_world, METH_VARARGS, \"Returns 'Hello, world!'\"},\n",
        "    {NULL, NULL, 0, NULL}\n",
        "};\n",
        "\n",
        "// Define the module\n",
        "static struct PyModuleDef hellomodule = {\n",
        "    PyModuleDef_HEAD_INIT,\n",
        "    \"hello\",  // Module name\n",
        "    NULL,     // Module documentation\n",
        "    -1,       // Size of per-interpreter state of the module\n",
        "    HelloMethods\n",
        "};\n",
        "\n",
        "// Module initialization function\n",
        "PyMODINIT_FUNC PyInit_hello(void) {\n",
        "    return PyModule_Create(&hellomodule);\n",
        "}\n"
      ]
    },
    {
      "cell_type": "code",
      "execution_count": null,
      "metadata": {},
      "outputs": [],
      "source": [
        "# Import the compiled C extension and use the hello function\n",
        "import hello\n",
        "\n",
        "# Call the hello function and print the result\n",
        "print(hello.hello())\n"
      ]
    },
    {
      "cell_type": "markdown",
      "metadata": {},
      "source": [
        "#### Example 4 : Sorting with a Custom Comparison Function"
      ]
    },
    {
      "cell_type": "code",
      "execution_count": 1,
      "metadata": {},
      "outputs": [
        {
          "name": "stdout",
          "output_type": "stream",
          "text": [
            "[('Bob', 25), ('Alice', 30), ('Charlie', 35)]\n"
          ]
        }
      ],
      "source": [
        "# Define a list of tuples representing people's names and ages\n",
        "people = [(\"Alice\", 30), (\"Bob\", 25), (\"Charlie\", 35)]\n",
        "\n",
        "# Define a custom sorting function based on the second element (age)\n",
        "def sort_by_age(person):\n",
        "    return person[1]  # Return the age for sorting\n",
        "\n",
        "# Use the sorted function with the custom key function\n",
        "sorted_people = sorted(people, key=sort_by_age)\n",
        "\n",
        "# Print the sorted list\n",
        "print(sorted_people)\n"
      ]
    },
    {
      "cell_type": "code",
      "execution_count": null,
      "metadata": {},
      "outputs": [],
      "source": []
    }
  ],
  "metadata": {
    "colab": {
      "provenance": []
    },
    "kernelspec": {
      "display_name": "Python 3",
      "name": "python3"
    },
    "language_info": {
      "codemirror_mode": {
        "name": "ipython",
        "version": 3
      },
      "file_extension": ".py",
      "mimetype": "text/x-python",
      "name": "python",
      "nbconvert_exporter": "python",
      "pygments_lexer": "ipython3",
      "version": "3.11.7"
    }
  },
  "nbformat": 4,
  "nbformat_minor": 0
}
