{
  "nbformat": 4,
  "nbformat_minor": 0,
  "metadata": {
    "colab": {
      "provenance": []
    },
    "kernelspec": {
      "name": "python3",
      "display_name": "Python 3"
    },
    "language_info": {
      "name": "python"
    }
  },
  "cells": [
    {
      "cell_type": "markdown",
      "source": [
        "# Activity 1\n",
        "\n",
        "## Activity 1.1 : Codebook\n"
      ],
      "metadata": {
        "id": "s--UOvo--OlL"
      }
    },
    {
      "cell_type": "markdown",
      "source": [
        "### Example 1 : Associating Multiple Values with Each Key in a Dictionary"
      ],
      "metadata": {
        "id": "ljuRPp3AdNDi"
      }
    },
    {
      "cell_type": "markdown",
      "source": [
        "### Approach 1"
      ],
      "metadata": {
        "id": "o3aupTCG-Ucm"
      }
    },
    {
      "cell_type": "code",
      "source": [
        "# Initialize an empty dictionary\n",
        "example1 = {}\n",
        "\n",
        "# Add 'apple' to the list of values associated with key 'a'\n",
        "example1.setdefault('a', []).append('apple')\n",
        "\n",
        "# Add 'boots' to the list of values associated with key 'b'\n",
        "example1.setdefault('b', []).append('boots')\n",
        "\n",
        "# Add 'cat' to the list of values associated with key 'c'\n",
        "example1.setdefault('c', []).append('cat')\n",
        "\n",
        "# Add 'ant' to the list of values associated with key 'a'\n",
        "example1.setdefault('a', []).append('ant')\n",
        "\n",
        "# Add 'apple' again to the list of values associated with key 'a'\n",
        "example1.setdefault('a', []).append('apple')\n",
        "\n",
        "# Print the values associated with key 'a'\n",
        "# Output: ['apple', 'ant', 'apple']\n",
        "print(example1['a'])\n",
        "\n",
        "# Remove one occurrence of 'apple' from the list associated with 'a'\n",
        "example1['a'].remove('apple')\n",
        "\n",
        "# Check if 'apple' is still in the list associated with 'a'\n",
        "if 'apple' in example1['a']:\n",
        "    print(\"'apple' is still in the list\")  # Output will be printed\n"
      ],
      "metadata": {
        "colab": {
          "base_uri": "https://localhost:8080/"
        },
        "id": "XG7LBFyC-O6M",
        "outputId": "083b8bc3-ca6f-4159-fda2-5d1d7a140636"
      },
      "execution_count": null,
      "outputs": [
        {
          "output_type": "stream",
          "name": "stdout",
          "text": [
            "['apple', 'ant', 'apple']\n",
            "'apple' is still in the list\n"
          ]
        }
      ]
    },
    {
      "cell_type": "markdown",
      "source": [
        "### Approach 2"
      ],
      "metadata": {
        "id": "oIsKQNL299YV"
      }
    },
    {
      "cell_type": "code",
      "source": [
        "# Initialize an empty dictionary\n",
        "example2 = {}\n",
        "\n",
        "# Add 'apple' to the dictionary associated with key 'a'\n",
        "example2.setdefault('a', {})['apple'] = 1\n",
        "\n",
        "# Add 'boots' to the dictionary associated with key 'b'\n",
        "example2.setdefault('b', {})['boots'] = 1\n",
        "\n",
        "# Add 'cat' to the dictionary associated with key 'c'\n",
        "example2.setdefault('c', {})['cat'] = 1\n",
        "\n",
        "# Add 'ant' to the dictionary associated with key 'a'\n",
        "example2.setdefault('a', {})['ant'] = 1\n",
        "\n",
        "# Try adding 'apple' again to the dictionary associated with key 'a'\n",
        "# 'apple' will not be duplicated because we're using a dictionary\n",
        "example2.setdefault('a', {})['apple'] = 1\n",
        "\n",
        "# Print the values associated with key 'a'\n",
        "# Output: {'apple': 1, 'ant': 1}\n",
        "print(example2['a'])\n",
        "\n",
        "# Remove 'apple' from the dictionary associated with 'a'\n",
        "del example2['a']['apple']\n",
        "\n",
        "# Check if 'apple' is still in the dictionary associated with 'a'\n",
        "if 'apple' in example2['a']:\n",
        "    print(\"'apple' is still in the dictionary\")\n",
        "else:\n",
        "    print(\"'apple' has been removed\")  # Output will be printed\n"
      ],
      "metadata": {
        "colab": {
          "base_uri": "https://localhost:8080/"
        },
        "id": "bRXdcfOU946s",
        "outputId": "1c996aea-4a06-402c-920f-1f221ea20d7f"
      },
      "execution_count": null,
      "outputs": [
        {
          "output_type": "stream",
          "name": "stdout",
          "text": [
            "{'apple': 1, 'ant': 1}\n",
            "'apple' has been removed\n"
          ]
        }
      ]
    },
    {
      "cell_type": "markdown",
      "source": [
        "### Example 2: Showing Off Quicksort in Three Lines"
      ],
      "metadata": {
        "id": "FBNVGPzVIWVm"
      }
    },
    {
      "cell_type": "code",
      "source": [
        "# Define a quicksort function\n",
        "def qsort(L):\n",
        "    # Base case: if the list has 1 or 0 elements, it's already sorted\n",
        "    if len(L) <= 1:\n",
        "        return L\n",
        "\n",
        "    # Recursive case:\n",
        "    # Sort elements less than the pivot, concatenate with the pivot,\n",
        "    # and sort elements greater than or equal to the pivot\n",
        "    return qsort([lt for lt in L[1:] if lt < L[0]]) + L[0:1] + \\\n",
        "           qsort([ge for ge in L[1:] if ge >= L[0]])\n",
        "\n",
        "# Test function to verify that qsort works correctly\n",
        "def qs_test(length):\n",
        "    import random\n",
        "\n",
        "    # Generate a list of integers from 0 to length-1\n",
        "    joe = list(range(length))\n",
        "\n",
        "    # Shuffle the list to randomize the order\n",
        "    random.shuffle(joe)\n",
        "\n",
        "    # Print the original unsorted list\n",
        "    print(\"Original list:\", joe)\n",
        "\n",
        "    # Sort the list using qsort\n",
        "    qsJoe = qsort(joe)\n",
        "\n",
        "    # Print the sorted list\n",
        "    print(\"Sorted list:\", qsJoe)\n",
        "\n",
        "    # Verify that the sorted list is in correct order\n",
        "    for i in range(len(qsJoe)):\n",
        "        assert qsJoe[i] == i, f'qsort is broken at {i}!'  # Raises an error if sorting is incorrect\n",
        "\n",
        "# Run the test function with a list of length 10\n",
        "qs_test(10)\n"
      ],
      "metadata": {
        "colab": {
          "base_uri": "https://localhost:8080/"
        },
        "id": "t1qj7egg-Fqv",
        "outputId": "63a50e49-8f74-4431-8d21-9a7b5010e10f"
      },
      "execution_count": null,
      "outputs": [
        {
          "output_type": "stream",
          "name": "stdout",
          "text": [
            "Original list: [6, 9, 1, 3, 4, 5, 0, 7, 8, 2]\n",
            "Sorted list: [0, 1, 2, 3, 4, 5, 6, 7, 8, 9]\n"
          ]
        }
      ]
    },
    {
      "cell_type": "markdown",
      "source": [
        "### Example 3: Testing Whether a String Represents an Integer\n"
      ],
      "metadata": {
        "id": "wubGflzbInnp"
      }
    },
    {
      "cell_type": "code",
      "source": [
        "# Function to check if a string represents an integer\n",
        "def isInt(astring):\n",
        "    \"\"\" Check if the given string is an integer. \"\"\"\n",
        "    try:\n",
        "        # Attempt to convert the string to an integer\n",
        "        int(astring)\n",
        "    except ValueError:\n",
        "        # If conversion fails, return 0 (not an integer)\n",
        "        return 0\n",
        "    else:\n",
        "        # If conversion succeeds, return 1 (is an integer)\n",
        "        return 1\n",
        "\n",
        "# Function to check if a string contains only digits\n",
        "def isAllDigits(astring):\n",
        "    \"\"\" Check if the string is composed entirely of digits. \"\"\"\n",
        "\n",
        "    # Import the string module to access digit characters\n",
        "    import string\n",
        "\n",
        "    # Define acceptable characters (digits)\n",
        "    acceptable_characters = string.digits\n",
        "\n",
        "    # Check each character in the string\n",
        "    for acharacter in astring:\n",
        "        # If a character is not a digit, return 0 (not all digits)\n",
        "        if acharacter not in acceptable_characters:\n",
        "            return 0\n",
        "\n",
        "    # If all characters are digits, return 1 (all digits)\n",
        "    return 1\n",
        "\n",
        "# Test the functions when the module is run as a script\n",
        "if __name__ == \"__main__\":\n",
        "    print(isInt('23'))  # Output: 1\n",
        "    print(isInt('sd'))  # Output: 0\n",
        "    print(isInt('233835859285'))  # Output: 1\n",
        "    print(isAllDigits('233835859285'))  # Output: 1\n"
      ],
      "metadata": {
        "colab": {
          "base_uri": "https://localhost:8080/"
        },
        "id": "SfVhg9iqIh-2",
        "outputId": "9aa41822-ddc6-437d-8208-861deb9a9f10"
      },
      "execution_count": null,
      "outputs": [
        {
          "output_type": "stream",
          "name": "stdout",
          "text": [
            "1\n",
            "0\n",
            "1\n",
            "1\n"
          ]
        }
      ]
    },
    {
      "cell_type": "markdown",
      "source": [
        "## Activity 1.2 : Codewars"
      ],
      "metadata": {
        "id": "L_ysT4NZb-Z-"
      }
    },
    {
      "cell_type": "code",
      "source": [
        "# Example 1\n",
        "class Python:\n",
        "    function __init__(self, name):\n",
        "        self.name = name  # Store the provided name in the instance variable\n",
        "\n",
        "    function __repr__(self):\n",
        "        return self.name  # Return the stored name\n",
        "\n",
        "# Example usage:\n",
        "bubba = Python('Bubba')  # Create an instance of Python with name 'Bubba'\n",
        "print(bubba)  # This should output: 'Bubba'"
      ],
      "metadata": {
        "id": "E0NdDnE2Isql"
      },
      "execution_count": null,
      "outputs": []
    },
    {
      "cell_type": "code",
      "source": [
        "# Example 2\n",
        "function sort_by_bit(arr):\n",
        "    define function sort_key(x):\n",
        "        count = number of 1 bits in binary representation of x\n",
        "        return (count, x)\n",
        "\n",
        "    sort arr in place using sort_key as the key\n"
      ],
      "metadata": {
        "id": "8mVyB50Ebdfq"
      },
      "execution_count": null,
      "outputs": []
    },
    {
      "cell_type": "code",
      "source": [
        "# Example 3\n",
        "function scrolling_text(text):\n",
        "    convert text to uppercase\n",
        "    define an empty list rotations\n",
        "    length = length of text\n",
        "\n",
        "    for i from 0 to length - 1:\n",
        "        rotated_text = text[i:] + text[:i]  # Create a rotation\n",
        "        add rotated_text to rotations\n",
        "\n",
        "    return rotations\n"
      ],
      "metadata": {
        "id": "6yyJ-eknb5qt"
      },
      "execution_count": null,
      "outputs": []
    },
    {
      "cell_type": "markdown",
      "source": [
        "# **Week 2**\n",
        "Example 1"
      ],
      "metadata": {
        "id": "xWc7X-Z3wPth"
      }
    },
    {
      "cell_type": "code",
      "source": [
        "# Base class definition\n",
        "class Animal:\n",
        "    # Constructor to initialize the name attribute\n",
        "    def __init__(self, name):\n",
        "        self.name = name\n",
        "\n",
        "    # Method to be overridden in derived classes\n",
        "    def speak(self):\n",
        "        raise NotImplementedError(\"Subclasses must implement this method\")\n",
        "\n",
        "# Derived class definition for Dog\n",
        "class Dog(Animal):\n",
        "    # Implement the speak method for Dog\n",
        "    def speak(self):\n",
        "        return f\"{self.name} says Woof!\"\n",
        "\n",
        "# Derived class definition for Cat\n",
        "class Cat(Animal):\n",
        "    # Implement the speak method for Cat\n",
        "    def speak(self):\n",
        "        return f\"{self.name} says Meow!\"\n",
        "\n",
        "# Create a Dog instance\n",
        "dog = Dog(\"Buddy\")\n",
        "# Create a Cat instance\n",
        "cat = Cat(\"Whiskers\")\n",
        "\n",
        "# Print the sound made by the Dog\n",
        "print(dog.speak())  # Output: Buddy says Woof!\n",
        "# Print the sound made by the Cat\n",
        "print(cat.speak())  # Output: Whiskers says Meow!\n"
      ],
      "metadata": {
        "colab": {
          "base_uri": "https://localhost:8080/",
          "height": 0
        },
        "id": "1PE2dYnIwO5c",
        "outputId": "a46b55dc-100e-49b4-8388-856760ec0038"
      },
      "execution_count": 2,
      "outputs": [
        {
          "output_type": "stream",
          "name": "stdout",
          "text": [
            "Buddy says Woof!\n",
            "Whiskers says Meow!\n"
          ]
        }
      ]
    },
    {
      "cell_type": "markdown",
      "source": [
        "Example 2"
      ],
      "metadata": {
        "id": "RXp7S7VQwsHO"
      }
    },
    {
      "cell_type": "code",
      "source": [
        "import threading\n",
        "import time\n",
        "\n",
        "# Function to print numbers\n",
        "def print_numbers():\n",
        "    for i in range(5):\n",
        "        print(f\"Number: {i}\")\n",
        "        time.sleep(1)  # Sleep for 1 second\n",
        "\n",
        "# Function to print letters\n",
        "def print_letters():\n",
        "    for letter in 'abcde':\n",
        "        print(f\"Letter: {letter}\")\n",
        "        time.sleep(1)  # Sleep for 1 second\n",
        "\n",
        "# Create a thread for print_numbers function\n",
        "thread1 = threading.Thread(target=print_numbers)\n",
        "# Create a thread for print_letters function\n",
        "thread2 = threading.Thread(target=print_letters)\n",
        "\n",
        "# Start the threads\n",
        "thread1.start()\n",
        "thread2.start()\n",
        "\n",
        "# Wait for both threads to complete\n",
        "thread1.join()\n",
        "thread2.join()\n"
      ],
      "metadata": {
        "colab": {
          "base_uri": "https://localhost:8080/",
          "height": 0
        },
        "id": "QRQMB7CGwi9L",
        "outputId": "342555d5-af4b-400c-e719-0a4fbb332a66"
      },
      "execution_count": 3,
      "outputs": [
        {
          "output_type": "stream",
          "name": "stdout",
          "text": [
            "Number: 0Letter: a\n",
            "\n",
            "Letter: b\n",
            "Number: 1\n",
            "Letter: c\n",
            "Number: 2\n",
            "Letter: d\n",
            "Number: 3\n",
            "Letter: e\n",
            "Number: 4\n"
          ]
        }
      ]
    },
    {
      "cell_type": "markdown",
      "source": [
        "Example 3"
      ],
      "metadata": {
        "id": "_IsjUQY-w25G"
      }
    },
    {
      "cell_type": "code",
      "source": [
        "# Open 'example.txt' file in read mode\n",
        "with open('sample_data/anscombe.json', 'r') as file:\n",
        "    # Read the entire contents of the file\n",
        "    contents = file.read()\n",
        "\n",
        "# Print the contents of the file to the console\n",
        "print(contents)\n",
        "\n"
      ],
      "metadata": {
        "colab": {
          "base_uri": "https://localhost:8080/",
          "height": 0
        },
        "id": "tqkhd4l6wt9j",
        "outputId": "4325f81e-aa14-4f11-b9f3-943a72185119"
      },
      "execution_count": 7,
      "outputs": [
        {
          "output_type": "stream",
          "name": "stdout",
          "text": [
            "[\n",
            "  {\"Series\":\"I\", \"X\":10.0, \"Y\":8.04},\n",
            "  {\"Series\":\"I\", \"X\":8.0, \"Y\":6.95},\n",
            "  {\"Series\":\"I\", \"X\":13.0, \"Y\":7.58},\n",
            "  {\"Series\":\"I\", \"X\":9.0, \"Y\":8.81},\n",
            "  {\"Series\":\"I\", \"X\":11.0, \"Y\":8.33},\n",
            "  {\"Series\":\"I\", \"X\":14.0, \"Y\":9.96},\n",
            "  {\"Series\":\"I\", \"X\":6.0, \"Y\":7.24},\n",
            "  {\"Series\":\"I\", \"X\":4.0, \"Y\":4.26},\n",
            "  {\"Series\":\"I\", \"X\":12.0, \"Y\":10.84},\n",
            "  {\"Series\":\"I\", \"X\":7.0, \"Y\":4.81},\n",
            "  {\"Series\":\"I\", \"X\":5.0, \"Y\":5.68},\n",
            "\n",
            "  {\"Series\":\"II\", \"X\":10.0, \"Y\":9.14},\n",
            "  {\"Series\":\"II\", \"X\":8.0, \"Y\":8.14},\n",
            "  {\"Series\":\"II\", \"X\":13.0, \"Y\":8.74},\n",
            "  {\"Series\":\"II\", \"X\":9.0, \"Y\":8.77},\n",
            "  {\"Series\":\"II\", \"X\":11.0, \"Y\":9.26},\n",
            "  {\"Series\":\"II\", \"X\":14.0, \"Y\":8.10},\n",
            "  {\"Series\":\"II\", \"X\":6.0, \"Y\":6.13},\n",
            "  {\"Series\":\"II\", \"X\":4.0, \"Y\":3.10},\n",
            "  {\"Series\":\"II\", \"X\":12.0, \"Y\":9.13},\n",
            "  {\"Series\":\"II\", \"X\":7.0, \"Y\":7.26},\n",
            "  {\"Series\":\"II\", \"X\":5.0, \"Y\":4.74},\n",
            "\n",
            "  {\"Series\":\"III\", \"X\":10.0, \"Y\":7.46},\n",
            "  {\"Series\":\"III\", \"X\":8.0, \"Y\":6.77},\n",
            "  {\"Series\":\"III\", \"X\":13.0, \"Y\":12.74},\n",
            "  {\"Series\":\"III\", \"X\":9.0, \"Y\":7.11},\n",
            "  {\"Series\":\"III\", \"X\":11.0, \"Y\":7.81},\n",
            "  {\"Series\":\"III\", \"X\":14.0, \"Y\":8.84},\n",
            "  {\"Series\":\"III\", \"X\":6.0, \"Y\":6.08},\n",
            "  {\"Series\":\"III\", \"X\":4.0, \"Y\":5.39},\n",
            "  {\"Series\":\"III\", \"X\":12.0, \"Y\":8.15},\n",
            "  {\"Series\":\"III\", \"X\":7.0, \"Y\":6.42},\n",
            "  {\"Series\":\"III\", \"X\":5.0, \"Y\":5.73},\n",
            "\n",
            "  {\"Series\":\"IV\", \"X\":8.0, \"Y\":6.58},\n",
            "  {\"Series\":\"IV\", \"X\":8.0, \"Y\":5.76},\n",
            "  {\"Series\":\"IV\", \"X\":8.0, \"Y\":7.71},\n",
            "  {\"Series\":\"IV\", \"X\":8.0, \"Y\":8.84},\n",
            "  {\"Series\":\"IV\", \"X\":8.0, \"Y\":8.47},\n",
            "  {\"Series\":\"IV\", \"X\":8.0, \"Y\":7.04},\n",
            "  {\"Series\":\"IV\", \"X\":8.0, \"Y\":5.25},\n",
            "  {\"Series\":\"IV\", \"X\":19.0, \"Y\":12.50},\n",
            "  {\"Series\":\"IV\", \"X\":8.0, \"Y\":5.56},\n",
            "  {\"Series\":\"IV\", \"X\":8.0, \"Y\":7.91},\n",
            "  {\"Series\":\"IV\", \"X\":8.0, \"Y\":6.89}\n",
            "]\n",
            "\n"
          ]
        }
      ]
    },
    {
      "cell_type": "markdown",
      "source": [
        "Example 4"
      ],
      "metadata": {
        "id": "ULETwn-qw_on"
      }
    },
    {
      "cell_type": "code",
      "source": [
        "import sqlite3\n",
        "\n",
        "# Connect to the SQLite database 'example.db'\n",
        "connection = sqlite3.connect('example.db')\n",
        "\n",
        "# Create a cursor object to execute SQL commands\n",
        "cursor = connection.cursor()\n",
        "\n",
        "# SQL command to create a new table 'users'\n",
        "cursor.execute('''\n",
        "    CREATE TABLE IF NOT EXISTS users (\n",
        "        id INTEGER PRIMARY KEY,\n",
        "        name TEXT NOT NULL,\n",
        "        age INTEGER\n",
        "    )\n",
        "''')\n",
        "\n",
        "# Save the changes to the database\n",
        "connection.commit()\n",
        "# Close the database connection\n",
        "connection.close()\n",
        "\n",
        "\n"
      ],
      "metadata": {
        "id": "GaeK58BZw4eR"
      },
      "execution_count": 5,
      "outputs": []
    }
  ]
}