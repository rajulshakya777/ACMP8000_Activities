{
  "nbformat": 4,
  "nbformat_minor": 0,
  "metadata": {
    "colab": {
      "provenance": []
    },
    "kernelspec": {
      "name": "python3",
      "display_name": "Python 3"
    },
    "language_info": {
      "name": "python"
    }
  },
  "cells": [
    {
      "cell_type": "markdown",
      "source": [
        "# Activity 1\n",
        "\n",
        "## Activity 1.1 : Codebook\n"
      ],
      "metadata": {
        "id": "s--UOvo--OlL"
      }
    },
    {
      "cell_type": "markdown",
      "source": [
        "### Example 1 : Associating Multiple Values with Each Key in a Dictionary"
      ],
      "metadata": {
        "id": "ljuRPp3AdNDi"
      }
    },
    {
      "cell_type": "markdown",
      "source": [
        "### Approach 1"
      ],
      "metadata": {
        "id": "o3aupTCG-Ucm"
      }
    },
    {
      "cell_type": "code",
      "source": [
        "# Initialize an empty dictionary\n",
        "example1 = {}\n",
        "\n",
        "# Add 'apple' to the list of values associated with key 'a'\n",
        "example1.setdefault('a', []).append('apple')\n",
        "\n",
        "# Add 'boots' to the list of values associated with key 'b'\n",
        "example1.setdefault('b', []).append('boots')\n",
        "\n",
        "# Add 'cat' to the list of values associated with key 'c'\n",
        "example1.setdefault('c', []).append('cat')\n",
        "\n",
        "# Add 'ant' to the list of values associated with key 'a'\n",
        "example1.setdefault('a', []).append('ant')\n",
        "\n",
        "# Add 'apple' again to the list of values associated with key 'a'\n",
        "example1.setdefault('a', []).append('apple')\n",
        "\n",
        "# Print the values associated with key 'a'\n",
        "# Output: ['apple', 'ant', 'apple']\n",
        "print(example1['a'])\n",
        "\n",
        "# Remove one occurrence of 'apple' from the list associated with 'a'\n",
        "example1['a'].remove('apple')\n",
        "\n",
        "# Check if 'apple' is still in the list associated with 'a'\n",
        "if 'apple' in example1['a']:\n",
        "    print(\"'apple' is still in the list\")  # Output will be printed\n"
      ],
      "metadata": {
        "colab": {
          "base_uri": "https://localhost:8080/"
        },
        "id": "XG7LBFyC-O6M",
        "outputId": "083b8bc3-ca6f-4159-fda2-5d1d7a140636"
      },
      "execution_count": 4,
      "outputs": [
        {
          "output_type": "stream",
          "name": "stdout",
          "text": [
            "['apple', 'ant', 'apple']\n",
            "'apple' is still in the list\n"
          ]
        }
      ]
    },
    {
      "cell_type": "markdown",
      "source": [
        "### Approach 2"
      ],
      "metadata": {
        "id": "oIsKQNL299YV"
      }
    },
    {
      "cell_type": "code",
      "source": [
        "# Initialize an empty dictionary\n",
        "example2 = {}\n",
        "\n",
        "# Add 'apple' to the dictionary associated with key 'a'\n",
        "example2.setdefault('a', {})['apple'] = 1\n",
        "\n",
        "# Add 'boots' to the dictionary associated with key 'b'\n",
        "example2.setdefault('b', {})['boots'] = 1\n",
        "\n",
        "# Add 'cat' to the dictionary associated with key 'c'\n",
        "example2.setdefault('c', {})['cat'] = 1\n",
        "\n",
        "# Add 'ant' to the dictionary associated with key 'a'\n",
        "example2.setdefault('a', {})['ant'] = 1\n",
        "\n",
        "# Try adding 'apple' again to the dictionary associated with key 'a'\n",
        "# 'apple' will not be duplicated because we're using a dictionary\n",
        "example2.setdefault('a', {})['apple'] = 1\n",
        "\n",
        "# Print the values associated with key 'a'\n",
        "# Output: {'apple': 1, 'ant': 1}\n",
        "print(example2['a'])\n",
        "\n",
        "# Remove 'apple' from the dictionary associated with 'a'\n",
        "del example2['a']['apple']\n",
        "\n",
        "# Check if 'apple' is still in the dictionary associated with 'a'\n",
        "if 'apple' in example2['a']:\n",
        "    print(\"'apple' is still in the dictionary\")\n",
        "else:\n",
        "    print(\"'apple' has been removed\")  # Output will be printed\n"
      ],
      "metadata": {
        "colab": {
          "base_uri": "https://localhost:8080/"
        },
        "id": "bRXdcfOU946s",
        "outputId": "1c996aea-4a06-402c-920f-1f221ea20d7f"
      },
      "execution_count": 5,
      "outputs": [
        {
          "output_type": "stream",
          "name": "stdout",
          "text": [
            "{'apple': 1, 'ant': 1}\n",
            "'apple' has been removed\n"
          ]
        }
      ]
    },
    {
      "cell_type": "markdown",
      "source": [
        "### Example 2: Showing Off Quicksort in Three Lines"
      ],
      "metadata": {
        "id": "FBNVGPzVIWVm"
      }
    },
    {
      "cell_type": "code",
      "source": [
        "# Define a quicksort function\n",
        "def qsort(L):\n",
        "    # Base case: if the list has 1 or 0 elements, it's already sorted\n",
        "    if len(L) <= 1:\n",
        "        return L\n",
        "\n",
        "    # Recursive case:\n",
        "    # Sort elements less than the pivot, concatenate with the pivot,\n",
        "    # and sort elements greater than or equal to the pivot\n",
        "    return qsort([lt for lt in L[1:] if lt < L[0]]) + L[0:1] + \\\n",
        "           qsort([ge for ge in L[1:] if ge >= L[0]])\n",
        "\n",
        "# Test function to verify that qsort works correctly\n",
        "def qs_test(length):\n",
        "    import random\n",
        "\n",
        "    # Generate a list of integers from 0 to length-1\n",
        "    joe = list(range(length))\n",
        "\n",
        "    # Shuffle the list to randomize the order\n",
        "    random.shuffle(joe)\n",
        "\n",
        "    # Print the original unsorted list\n",
        "    print(\"Original list:\", joe)\n",
        "\n",
        "    # Sort the list using qsort\n",
        "    qsJoe = qsort(joe)\n",
        "\n",
        "    # Print the sorted list\n",
        "    print(\"Sorted list:\", qsJoe)\n",
        "\n",
        "    # Verify that the sorted list is in correct order\n",
        "    for i in range(len(qsJoe)):\n",
        "        assert qsJoe[i] == i, f'qsort is broken at {i}!'  # Raises an error if sorting is incorrect\n",
        "\n",
        "# Run the test function with a list of length 10\n",
        "qs_test(10)\n"
      ],
      "metadata": {
        "colab": {
          "base_uri": "https://localhost:8080/"
        },
        "id": "t1qj7egg-Fqv",
        "outputId": "63a50e49-8f74-4431-8d21-9a7b5010e10f"
      },
      "execution_count": 8,
      "outputs": [
        {
          "output_type": "stream",
          "name": "stdout",
          "text": [
            "Original list: [6, 9, 1, 3, 4, 5, 0, 7, 8, 2]\n",
            "Sorted list: [0, 1, 2, 3, 4, 5, 6, 7, 8, 9]\n"
          ]
        }
      ]
    },
    {
      "cell_type": "markdown",
      "source": [
        "### Example 3: Testing Whether a String Represents an Integer\n"
      ],
      "metadata": {
        "id": "wubGflzbInnp"
      }
    },
    {
      "cell_type": "code",
      "source": [
        "# Function to check if a string represents an integer\n",
        "def isInt(astring):\n",
        "    \"\"\" Check if the given string is an integer. \"\"\"\n",
        "    try:\n",
        "        # Attempt to convert the string to an integer\n",
        "        int(astring)\n",
        "    except ValueError:\n",
        "        # If conversion fails, return 0 (not an integer)\n",
        "        return 0\n",
        "    else:\n",
        "        # If conversion succeeds, return 1 (is an integer)\n",
        "        return 1\n",
        "\n",
        "# Function to check if a string contains only digits\n",
        "def isAllDigits(astring):\n",
        "    \"\"\" Check if the string is composed entirely of digits. \"\"\"\n",
        "\n",
        "    # Import the string module to access digit characters\n",
        "    import string\n",
        "\n",
        "    # Define acceptable characters (digits)\n",
        "    acceptable_characters = string.digits\n",
        "\n",
        "    # Check each character in the string\n",
        "    for acharacter in astring:\n",
        "        # If a character is not a digit, return 0 (not all digits)\n",
        "        if acharacter not in acceptable_characters:\n",
        "            return 0\n",
        "\n",
        "    # If all characters are digits, return 1 (all digits)\n",
        "    return 1\n",
        "\n",
        "# Test the functions when the module is run as a script\n",
        "if __name__ == \"__main__\":\n",
        "    print(isInt('23'))  # Output: 1\n",
        "    print(isInt('sd'))  # Output: 0\n",
        "    print(isInt('233835859285'))  # Output: 1\n",
        "    print(isAllDigits('233835859285'))  # Output: 1\n"
      ],
      "metadata": {
        "colab": {
          "base_uri": "https://localhost:8080/"
        },
        "id": "SfVhg9iqIh-2",
        "outputId": "9aa41822-ddc6-437d-8208-861deb9a9f10"
      },
      "execution_count": 7,
      "outputs": [
        {
          "output_type": "stream",
          "name": "stdout",
          "text": [
            "1\n",
            "0\n",
            "1\n",
            "1\n"
          ]
        }
      ]
    },
    {
      "cell_type": "markdown",
      "source": [
        "## Activity 1.2 : Codewars"
      ],
      "metadata": {
        "id": "L_ysT4NZb-Z-"
      }
    },
    {
      "cell_type": "code",
      "source": [
        "# Example 1\n",
        "class Python:\n",
        "    function __init__(self, name):\n",
        "        self.name = name  # Store the provided name in the instance variable\n",
        "\n",
        "    function __repr__(self):\n",
        "        return self.name  # Return the stored name\n",
        "\n",
        "# Example usage:\n",
        "bubba = Python('Bubba')  # Create an instance of Python with name 'Bubba'\n",
        "print(bubba)  # This should output: 'Bubba'"
      ],
      "metadata": {
        "id": "E0NdDnE2Isql"
      },
      "execution_count": null,
      "outputs": []
    },
    {
      "cell_type": "code",
      "source": [
        "# Example 2\n",
        "function sort_by_bit(arr):\n",
        "    define function sort_key(x):\n",
        "        count = number of 1 bits in binary representation of x\n",
        "        return (count, x)\n",
        "\n",
        "    sort arr in place using sort_key as the key\n"
      ],
      "metadata": {
        "id": "8mVyB50Ebdfq"
      },
      "execution_count": null,
      "outputs": []
    },
    {
      "cell_type": "code",
      "source": [
        "# Example 3\n",
        "function scrolling_text(text):\n",
        "    convert text to uppercase\n",
        "    define an empty list rotations\n",
        "    length = length of text\n",
        "\n",
        "    for i from 0 to length - 1:\n",
        "        rotated_text = text[i:] + text[:i]  # Create a rotation\n",
        "        add rotated_text to rotations\n",
        "\n",
        "    return rotations\n"
      ],
      "metadata": {
        "id": "6yyJ-eknb5qt"
      },
      "execution_count": null,
      "outputs": []
    }
  ]
}